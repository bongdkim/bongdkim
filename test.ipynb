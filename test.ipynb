{
 "cells": [
  {
   "cell_type": "code",
   "execution_count": 1,
   "metadata": {},
   "outputs": [
    {
     "name": "stdout",
     "output_type": "stream",
     "text": [
      "0 0 ^ 0 0 0 0\n",
      "0 0 ^ 0 0 0 0\n",
      "< < * > > > >\n",
      "0 0 v 0 0 0 0\n",
      "0 0 v 0 0 0 0\n",
      "0 0 v 0 0 0 0\n",
      "0 0 v 0 0 0 0\n"
     ]
    }
   ],
   "source": [
    "dr = [-1, 0, 1, 0]\n",
    "dc = [0, 1, 0, -1]\n",
    "ch = '^>v<'\n",
    "N = 7\n",
    "arr = [[0] * N for _ in range(N)]\n",
    "r = c = 2\n",
    "# ------------------------\n",
    "# 반복문을 이용해서 (r, c)에서 네방향 반복\n",
    "arr[r][c] = '*'\n",
    "\n",
    "for dir in range(4): # 방향 결정\n",
    "    for i in range(1, N):\n",
    "        nr = r + dr[dir] * i\n",
    "        nc = c + dc[dir] * i\n",
    "        if 0 <= nr < N and 0 <= nc < N:\n",
    "            arr[nr][nc] = ch[dir]\n",
    "\n",
    "# ------------------------\n",
    "for line in arr:\n",
    "    print(*line)"
   ]
  },
  {
   "cell_type": "code",
   "execution_count": 2,
   "metadata": {},
   "outputs": [
    {
     "name": "stdout",
     "output_type": "stream",
     "text": [
      "3 a\n",
      "4 b\n",
      "5 c\n"
     ]
    }
   ],
   "source": [
    "fruits = ['a' , 'b', 'c']\n",
    "for index, fruit in enumerate(fruits, 3):\n",
    "\tprint(index, fruit)"
   ]
  },
  {
   "cell_type": "code",
   "execution_count": 1,
   "metadata": {},
   "outputs": [
    {
     "name": "stdout",
     "output_type": "stream",
     "text": [
      "     *\n",
      "    **\n",
      "   ***\n",
      "  ****\n",
      " *****\n"
     ]
    }
   ],
   "source": [
    "N = 5\n",
    "for n in range(1,N+1):\n",
    "    print(' '*(5-n), '*'*n)"
   ]
  },
  {
   "cell_type": "code",
   "execution_count": null,
   "metadata": {},
   "outputs": [],
   "source": [
    "N = int(input())\n",
    "lst = [] \n",
    "for n in range(1, N+1): \n",
    "    if N%n == 0:\n",
    "        lst.append(str(n)) \n",
    "print(' '.join(lst))"
   ]
  },
  {
   "cell_type": "code",
   "execution_count": 2,
   "metadata": {},
   "outputs": [
    {
     "name": "stdout",
     "output_type": "stream",
     "text": [
      "[1, 2, 3, 5, 8]\n"
     ]
    }
   ],
   "source": [
    "tup = (5, 2, 8, 1, 3)\n",
    "print(sorted(tup))"
   ]
  }
 ],
 "metadata": {
  "kernelspec": {
   "display_name": ".venv",
   "language": "python",
   "name": "python3"
  },
  "language_info": {
   "codemirror_mode": {
    "name": "ipython",
    "version": 3
   },
   "file_extension": ".py",
   "mimetype": "text/x-python",
   "name": "python",
   "nbconvert_exporter": "python",
   "pygments_lexer": "ipython3",
   "version": "3.13.1"
  }
 },
 "nbformat": 4,
 "nbformat_minor": 2
}
