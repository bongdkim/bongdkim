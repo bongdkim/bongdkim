{
 "cells": [
  {
   "cell_type": "code",
   "execution_count": 14,
   "metadata": {},
   "outputs": [
    {
     "ename": "IndexError",
     "evalue": "string index out of range",
     "output_type": "error",
     "traceback": [
      "\u001b[1;31m---------------------------------------------------------------------------\u001b[0m",
      "\u001b[1;31mIndexError\u001b[0m                                Traceback (most recent call last)",
      "Cell \u001b[1;32mIn[14], line 8\u001b[0m\n\u001b[0;32m      5\u001b[0m i\u001b[38;5;241m=\u001b[39mj\u001b[38;5;241m=\u001b[39m\u001b[38;5;241m0\u001b[39m\n\u001b[0;32m      6\u001b[0m \u001b[38;5;28;01mwhile\u001b[39;00m i\u001b[38;5;241m<\u001b[39mn \u001b[38;5;129;01mand\u001b[39;00m j\u001b[38;5;241m<\u001b[39mm:\n\u001b[0;32m      7\u001b[0m \u001b[38;5;66;03m# i=n되면 패턴 없음, j=m되면 찾음\u001b[39;00m\n\u001b[1;32m----> 8\u001b[0m \t\u001b[38;5;28;01mif\u001b[39;00m p[j] \u001b[38;5;241m==\u001b[39m \u001b[43mt\u001b[49m\u001b[43m[\u001b[49m\u001b[43mi\u001b[49m\u001b[43m]\u001b[49m:\n\u001b[0;32m      9\u001b[0m \t\ti,j\u001b[38;5;241m=\u001b[39mi\u001b[38;5;241m+\u001b[39m\u001b[38;5;241m1\u001b[39m,j\u001b[38;5;241m+\u001b[39m\u001b[38;5;241m1\u001b[39m\n\u001b[0;32m     10\u001b[0m \t\t\u001b[38;5;66;03m#같으면 하나씩 뒤에거 봄\u001b[39;00m\n\u001b[0;32m     11\u001b[0m \t\u001b[38;5;28;01melse\u001b[39;00m:\n\u001b[0;32m     12\u001b[0m \t\t\u001b[38;5;66;03m# 다시 비교\u001b[39;00m\n",
      "\u001b[1;31mIndexError\u001b[0m: string index out of range"
     ]
    }
   ],
   "source": [
    "p = \"CATTCCCTGCGCCGC\"                                                                       # pattern\n",
    "t = \"ATTGCATGTTTGAGCTCATTCCCTGCGCCGCTTTACACGTACCTACGACATTCCCTGCGCCGCCACCCGTTGAA\"\n",
    "\n",
    "n,m = len(t), len(p)\n",
    "i=j=0\n",
    "while i<n and j<m:\n",
    "# i=n되면 패턴 없음, j=m되면 찾음\n",
    "\tif p[j] == t[i]:\n",
    "\t\ti,j=i+1,j+1\n",
    "\t\t#같으면 하나씩 뒤에거 봄\n",
    "\telse:\n",
    "\t\t# 다시 비교\n",
    "\t\ti = i-(j-1)\n",
    "\t\tif j==m:\n",
    "\t\t\tprint(t[i-j:i-j+m])\n",
    "\t\t\tj=0"
   ]
  },
  {
   "cell_type": "code",
   "execution_count": 7,
   "metadata": {},
   "outputs": [
    {
     "name": "stdout",
     "output_type": "stream",
     "text": [
      "xeyopgvgxypvsy\n"
     ]
    }
   ],
   "source": [
    "A = 'xypv'\n",
    "B = 'eoggxypvsy'\n",
    "new=''\n",
    "\n",
    "cnt=0\n",
    "for a in range(len(A)):\n",
    "    new+=A[a]\n",
    "    new+=B[cnt]\n",
    "    cnt+=1\n",
    "new += B[cnt:] \n",
    "print(new)   \n"
   ]
  },
  {
   "cell_type": "code",
   "execution_count": 10,
   "metadata": {},
   "outputs": [
    {
     "data": {
      "text/plain": [
       "2"
      ]
     },
     "execution_count": 10,
     "metadata": {},
     "output_type": "execute_result"
    }
   ],
   "source": [
    "from decimal import Decimal\n",
    "round(Decimal(2.5))"
   ]
  },
  {
   "cell_type": "code",
   "execution_count": 17,
   "metadata": {},
   "outputs": [
    {
     "name": "stdout",
     "output_type": "stream",
     "text": [
      "BabyGin!\n"
     ]
    }
   ],
   "source": [
    "num = 456789\n",
    "c = [0] * 12 # 0~9 로 열개에 run 돌릴꺼 맨뒤에 0 0 추가\n",
    "\n",
    "#시작\n",
    "for _ in range(6):\n",
    "    c[num % 10] += 1 # 숫자 하나씩 세기\n",
    "    num //= 10  # 맨끝자리 없애기\n",
    "# print(c)\n",
    "i=0\n",
    "trip = run = 0\n",
    "while i < 10: # 0~9까지 숫자를 점검할거임\n",
    "\tif c[i] >= 3:\n",
    "\t\tc[i] -= 3\n",
    "\t\ttrip += 1\n",
    "\t\tcontinue\n",
    "\tif c[i] >= 1 and c[i+1] >= 1 and c[i+2] >= 1:\n",
    "\t\tc[i] -= 1\n",
    "\t\tc[i+1] -= 1\n",
    "\t\tc[i+2] -= 1\n",
    "\t\trun += 1\n",
    "\t\tcontinue\n",
    "\ti += 1\t\t\n",
    "if run + trip >= 2:\n",
    "\tprint(\"BabyGin!\") \n",
    "else:\n",
    "\tprint(\"Lose~\")"
   ]
  },
  {
   "cell_type": "code",
   "execution_count": null,
   "metadata": {},
   "outputs": [
    {
     "name": "stdout",
     "output_type": "stream",
     "text": [
      "start start\n",
      "h start\n",
      "g start\n",
      "f start\n"
     ]
    },
    {
     "ename": "Exception",
     "evalue": "나 그만할래 ㅠ ㅠ ㅠ ㅠ",
     "output_type": "error",
     "traceback": [
      "\u001b[1;31m---------------------------------------------------------------------------\u001b[0m",
      "\u001b[1;31mException\u001b[0m                                 Traceback (most recent call last)",
      "Cell \u001b[1;32mIn[3], line 21\u001b[0m\n\u001b[0;32m     18\u001b[0m     h()\n\u001b[0;32m     19\u001b[0m     \u001b[38;5;28mprint\u001b[39m(\u001b[38;5;124m'\u001b[39m\u001b[38;5;124mstart end\u001b[39m\u001b[38;5;124m'\u001b[39m)\n\u001b[1;32m---> 21\u001b[0m \u001b[43mstart\u001b[49m\u001b[43m(\u001b[49m\u001b[43m)\u001b[49m\n",
      "Cell \u001b[1;32mIn[3], line 18\u001b[0m, in \u001b[0;36mstart\u001b[1;34m()\u001b[0m\n\u001b[0;32m     16\u001b[0m \u001b[38;5;28;01mdef\u001b[39;00m\u001b[38;5;250m \u001b[39m\u001b[38;5;21mstart\u001b[39m():\n\u001b[0;32m     17\u001b[0m     \u001b[38;5;28mprint\u001b[39m(\u001b[38;5;124m'\u001b[39m\u001b[38;5;124mstart start\u001b[39m\u001b[38;5;124m'\u001b[39m)\n\u001b[1;32m---> 18\u001b[0m     \u001b[43mh\u001b[49m\u001b[43m(\u001b[49m\u001b[43m)\u001b[49m\n\u001b[0;32m     19\u001b[0m     \u001b[38;5;28mprint\u001b[39m(\u001b[38;5;124m'\u001b[39m\u001b[38;5;124mstart end\u001b[39m\u001b[38;5;124m'\u001b[39m)\n",
      "Cell \u001b[1;32mIn[3], line 13\u001b[0m, in \u001b[0;36mh\u001b[1;34m()\u001b[0m\n\u001b[0;32m     11\u001b[0m \u001b[38;5;28;01mdef\u001b[39;00m\u001b[38;5;250m \u001b[39m\u001b[38;5;21mh\u001b[39m():\n\u001b[0;32m     12\u001b[0m     \u001b[38;5;28mprint\u001b[39m(\u001b[38;5;124m'\u001b[39m\u001b[38;5;124mh start\u001b[39m\u001b[38;5;124m'\u001b[39m)\n\u001b[1;32m---> 13\u001b[0m     \u001b[43mg\u001b[49m\u001b[43m(\u001b[49m\u001b[43m)\u001b[49m\n\u001b[0;32m     14\u001b[0m     \u001b[38;5;28mprint\u001b[39m(\u001b[38;5;124m'\u001b[39m\u001b[38;5;124mh end\u001b[39m\u001b[38;5;124m'\u001b[39m)\n",
      "Cell \u001b[1;32mIn[3], line 8\u001b[0m, in \u001b[0;36mg\u001b[1;34m()\u001b[0m\n\u001b[0;32m      6\u001b[0m \u001b[38;5;28;01mdef\u001b[39;00m\u001b[38;5;250m \u001b[39m\u001b[38;5;21mg\u001b[39m():\n\u001b[0;32m      7\u001b[0m     \u001b[38;5;28mprint\u001b[39m(\u001b[38;5;124m'\u001b[39m\u001b[38;5;124mg start\u001b[39m\u001b[38;5;124m'\u001b[39m)\n\u001b[1;32m----> 8\u001b[0m     \u001b[43mf\u001b[49m\u001b[43m(\u001b[49m\u001b[43m)\u001b[49m\n\u001b[0;32m      9\u001b[0m     \u001b[38;5;28mprint\u001b[39m(\u001b[38;5;124m'\u001b[39m\u001b[38;5;124mg end\u001b[39m\u001b[38;5;124m'\u001b[39m)\n",
      "Cell \u001b[1;32mIn[3], line 3\u001b[0m, in \u001b[0;36mf\u001b[1;34m()\u001b[0m\n\u001b[0;32m      1\u001b[0m \u001b[38;5;28;01mdef\u001b[39;00m\u001b[38;5;250m \u001b[39m\u001b[38;5;21mf\u001b[39m():\n\u001b[0;32m      2\u001b[0m     \u001b[38;5;28mprint\u001b[39m(\u001b[38;5;124m'\u001b[39m\u001b[38;5;124mf start\u001b[39m\u001b[38;5;124m'\u001b[39m)\n\u001b[1;32m----> 3\u001b[0m     \u001b[38;5;28;01mraise\u001b[39;00m \u001b[38;5;167;01mException\u001b[39;00m(\u001b[38;5;124m'\u001b[39m\u001b[38;5;124m나 그만할래 ㅠ ㅠ ㅠ ㅠ\u001b[39m\u001b[38;5;124m'\u001b[39m)\n\u001b[0;32m      4\u001b[0m     \u001b[38;5;28mprint\u001b[39m(\u001b[38;5;124m'\u001b[39m\u001b[38;5;124mf end\u001b[39m\u001b[38;5;124m'\u001b[39m)\n",
      "\u001b[1;31mException\u001b[0m: 나 그만할래 ㅠ ㅠ ㅠ ㅠ"
     ]
    }
   ],
   "source": [
    "def f():\n",
    "    print('f start')\n",
    "    raise Exception('나 그만할래 ㅠ ㅠ ㅠ ㅠ')\n",
    "    print('f end')\n",
    "\n",
    "def g():\n",
    "    print('g start')\n",
    "    f()\n",
    "    print('g end')\n",
    "\n",
    "def h():\n",
    "    print('h start')\n",
    "    try:\n",
    "        g()\n",
    "    except:\n",
    "        print('잡았다 요놈!!    ')\n",
    "    print('h end')\n",
    "\n",
    "def start():\n",
    "    print('start start')\n",
    "    h()\n",
    "    print('start end')\n",
    "\n",
    "start()"
   ]
  },
  {
   "cell_type": "code",
   "execution_count": 6,
   "metadata": {},
   "outputs": [
    {
     "name": "stdout",
     "output_type": "stream",
     "text": [
      "ㅇㅅㅇ\u000b\u0007ㅇㅅㅇ\fㅍㅅㅎㅅㅎ\n"
     ]
    }
   ],
   "source": [
    "print('ㅇㅅㅇ\\v\\aㅇㅅㅇ\\fㅍㅅㅍ\\bㅎㅅㅎ\\rㅇㅅㅇ')"
   ]
  },
  {
   "cell_type": "code",
   "execution_count": 7,
   "metadata": {},
   "outputs": [
    {
     "ename": "TypeError",
     "evalue": "myf() missing 2 required positional arguments: 'y' and 'z'",
     "output_type": "error",
     "traceback": [
      "\u001b[1;31m---------------------------------------------------------------------------\u001b[0m",
      "\u001b[1;31mTypeError\u001b[0m                                 Traceback (most recent call last)",
      "Cell \u001b[1;32mIn[7], line 5\u001b[0m\n\u001b[0;32m      2\u001b[0m     \u001b[38;5;28mprint\u001b[39m(x, y, z)\n\u001b[0;32m      4\u001b[0m names \u001b[38;5;241m=\u001b[39m [\u001b[38;5;124m'\u001b[39m\u001b[38;5;124ma\u001b[39m\u001b[38;5;124m'\u001b[39m, \u001b[38;5;124m'\u001b[39m\u001b[38;5;124mb\u001b[39m\u001b[38;5;124m'\u001b[39m, \u001b[38;5;124m'\u001b[39m\u001b[38;5;124mc\u001b[39m\u001b[38;5;124m'\u001b[39m]\n\u001b[1;32m----> 5\u001b[0m \u001b[43mmyf\u001b[49m\u001b[43m(\u001b[49m\u001b[43mnames\u001b[49m\u001b[43m)\u001b[49m\n",
      "\u001b[1;31mTypeError\u001b[0m: myf() missing 2 required positional arguments: 'y' and 'z'"
     ]
    }
   ],
   "source": [
    "def myf(x, y, z):\n",
    "    print(x, y, z)\n",
    "\n",
    "names = ['a', 'b', 'c']\n",
    "myf(names)"
   ]
  },
  {
   "cell_type": "code",
   "execution_count": 9,
   "metadata": {},
   "outputs": [
    {
     "data": {
      "text/plain": [
       "[[0, 0, 0, 0, 0],\n",
       " [0, 0, 0, 0, 0],\n",
       " [0, 0, 0, 0, 0],\n",
       " [0, 0, 0, 0, 0],\n",
       " [0, 0, 0, 0, 0]]"
      ]
     },
     "execution_count": 9,
     "metadata": {},
     "output_type": "execute_result"
    }
   ],
   "source": [
    "[[0]*(5) for _ in range(5)]\n"
   ]
  }
 ],
 "metadata": {
  "kernelspec": {
   "display_name": ".venv",
   "language": "python",
   "name": "python3"
  },
  "language_info": {
   "codemirror_mode": {
    "name": "ipython",
    "version": 3
   },
   "file_extension": ".py",
   "mimetype": "text/x-python",
   "name": "python",
   "nbconvert_exporter": "python",
   "pygments_lexer": "ipython3",
   "version": "3.9.13"
  }
 },
 "nbformat": 4,
 "nbformat_minor": 2
}
