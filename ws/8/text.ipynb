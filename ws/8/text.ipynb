{
 "cells": [
  {
   "cell_type": "code",
   "execution_count": null,
   "metadata": {},
   "outputs": [],
   "source": [
    "h, m = map(int, input().split())\n",
    "dm = int(inpu())\n",
    "\n",
    "if (m+dm)<60:\n",
    "    print(f'{h} {m+dm}')\n",
    "elif (m+dm)>=60:\n",
    "    while (m+dm)>=60:\n",
    "        h = h+1\n",
    "        m = (m+dm)-60\n",
    "    if h == 24:\n",
    "        h=0\n",
    "    print(f'{h} {m}')"
   ]
  },
  {
   "cell_type": "code",
   "execution_count": 3,
   "metadata": {},
   "outputs": [
    {
     "name": "stdout",
     "output_type": "stream",
     "text": [
      "10\n",
      "[0, 20]\n",
      "0\n",
      "20\n"
     ]
    }
   ],
   "source": [
    "lst = [0, 10, 20]\n",
    "print(lst.pop(1))\n",
    "print(lst)\n",
    "a=set(lst)\n",
    "for _ in a:\n",
    "    print(_)"
   ]
  },
  {
   "cell_type": "code",
   "execution_count": 10,
   "metadata": {},
   "outputs": [
    {
     "name": "stdout",
     "output_type": "stream",
     "text": [
      "[1, [[10, 20], 3]]\n",
      "[1, [[10, 20], 4]]\n",
      "[1, [[10, 20], 3]]\n"
     ]
    },
    {
     "data": {
      "text/plain": [
       "False"
      ]
     },
     "execution_count": 10,
     "metadata": {},
     "output_type": "execute_result"
    }
   ],
   "source": [
    "#deepcopy\n",
    "from copy import deepcopy\n",
    "a = [1,[[10, 20],3]]\n",
    "b = deepcopy(a)\n",
    "print(b)\n",
    "b[1][1] = 4\n",
    "print(b)\n",
    "print(a)\n",
    "bool(a[1][0] is b[1][0])"
   ]
  },
  {
   "cell_type": "code",
   "execution_count": 13,
   "metadata": {},
   "outputs": [
    {
     "name": "stdout",
     "output_type": "stream",
     "text": [
      "6\n",
      "{1: 2, 3: 4, 5: 6}\n"
     ]
    }
   ],
   "source": [
    "d = {1:2, 3:4}\n",
    "print(d.setdefault(5, 6))\n",
    "print(d)"
   ]
  }
 ],
 "metadata": {
  "kernelspec": {
   "display_name": "Python 3",
   "language": "python",
   "name": "python3"
  },
  "language_info": {
   "codemirror_mode": {
    "name": "ipython",
    "version": 3
   },
   "file_extension": ".py",
   "mimetype": "text/x-python",
   "name": "python",
   "nbconvert_exporter": "python",
   "pygments_lexer": "ipython3",
   "version": "3.12.4"
  }
 },
 "nbformat": 4,
 "nbformat_minor": 2
}
