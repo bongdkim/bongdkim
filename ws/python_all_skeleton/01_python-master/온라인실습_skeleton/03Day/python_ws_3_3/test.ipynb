{
 "cells": [
  {
   "cell_type": "code",
   "execution_count": 1,
   "metadata": {},
   "outputs": [
    {
     "name": "stdout",
     "output_type": "stream",
     "text": [
      "100000\n",
      "a\n",
      "2\n",
      "3\n",
      "1\n",
      "5\n",
      "100\n",
      "1000\n",
      "김나박\n"
     ]
    }
   ],
   "source": [
    "set1 = {5, 'a', 1,2, '김나박', 3, 100, 1000, 100000}\n",
    "for s in set1:\n",
    "    print(s)"
   ]
  }
 ],
 "metadata": {
  "kernelspec": {
   "display_name": "Python 3",
   "language": "python",
   "name": "python3"
  },
  "language_info": {
   "codemirror_mode": {
    "name": "ipython",
    "version": 3
   },
   "file_extension": ".py",
   "mimetype": "text/x-python",
   "name": "python",
   "nbconvert_exporter": "python",
   "pygments_lexer": "ipython3",
   "version": "3.12.4"
  }
 },
 "nbformat": 4,
 "nbformat_minor": 2
}
