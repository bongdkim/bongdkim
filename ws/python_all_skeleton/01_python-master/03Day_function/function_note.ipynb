{
 "cells": [
  {
   "cell_type": "code",
   "execution_count": 5,
   "metadata": {},
   "outputs": [
    {
     "name": "stdout",
     "output_type": "stream",
     "text": [
      "이게 호출되나?님 안녕하세요?\n"
     ]
    }
   ],
   "source": [
    "# 파이썬에서 함수도 객체로 존재\n",
    "def print_hello(name):\n",
    "    print(f'{name}님 안녕하세요?')\n",
    "\n",
    "my_func = print_hello # 함수의 이름은 함수객체에 대한 주소\n",
    "\n",
    "def receive_func(f):  # 매개변수(지역변수)\n",
    "    f('이게 호출되나?')\n",
    "\n",
    "receive_func(print_hello)\n"
   ]
  },
  {
   "cell_type": "code",
   "execution_count": 6,
   "metadata": {},
   "outputs": [
    {
     "data": {
      "text/plain": [
       "30"
      ]
     },
     "execution_count": 6,
     "metadata": {},
     "output_type": "execute_result"
    }
   ],
   "source": [
    "# 람다함수는 익명함수니까 이름이 없음\n",
    "# 함수의 바디는 한줄의 문장만 작성\n",
    "def calc_sum(a, b):    \n",
    "    return a + b\n",
    "\n",
    "func = lambda a, b: a + b\n",
    "func(10, 20)"
   ]
  },
  {
   "cell_type": "code",
   "execution_count": 8,
   "metadata": {},
   "outputs": [
    {
     "name": "stdout",
     "output_type": "stream",
     "text": [
      "1\n",
      "2\n",
      "3\n",
      "4\n"
     ]
    },
    {
     "data": {
      "text/plain": [
       "[1, 4, 9, 16]"
      ]
     },
     "execution_count": 8,
     "metadata": {},
     "output_type": "execute_result"
    }
   ],
   "source": [
    "def square_num(n):\n",
    "    print(n)\n",
    "    return n**2\n",
    "\n",
    "lst = [1, 2, 3, 4] # => 1, 4, 9, 16 \n",
    "\n",
    "list(map(square_num, lst)) # map은 lst에 요소를 하나씩 가져와서 square_num을 호출\n",
    "                     # square_num의 반환값을 모아서 map 객체가 된다."
   ]
  },
  {
   "cell_type": "code",
   "execution_count": 9,
   "metadata": {},
   "outputs": [
    {
     "data": {
      "text/plain": [
       "[1, 4, 9, 16]"
      ]
     },
     "execution_count": 9,
     "metadata": {},
     "output_type": "execute_result"
    }
   ],
   "source": [
    "def square_num(n):    \n",
    "    return n**2\n",
    "\n",
    "# lambda n: n**2\n",
    "\n",
    "lst = [1, 2, 3, 4]\n",
    "list(map(lambda n: n**2, lst))\n"
   ]
  },
  {
   "cell_type": "code",
   "execution_count": 11,
   "metadata": {},
   "outputs": [
    {
     "name": "stdout",
     "output_type": "stream",
     "text": [
      "[5, 6, 7, 10, 12, 20]\n",
      "[10, 7, 6, 20, 12, 5]\n",
      "[5, 6, 7, 10, 12, 20]\n"
     ]
    }
   ],
   "source": [
    "lst = [10, 7, 6, 20, 12, 5]\n",
    "\n",
    "# 정렬에 사용하는 함수\n",
    "sorted_lst = sorted(lst)   # 정렬된 새로운 리스트를 반환환\n",
    "print(sorted_lst)\n",
    "print(lst)\n",
    "\n",
    "lst.sort()\n",
    "print(lst)\n"
   ]
  },
  {
   "cell_type": "code",
   "execution_count": 14,
   "metadata": {},
   "outputs": [
    {
     "data": {
      "text/plain": [
       "[('문빈', 20), ('홍길동', 22), ('김철수', 25), ('권예경', 26)]"
      ]
     },
     "execution_count": 14,
     "metadata": {},
     "output_type": "execute_result"
    }
   ],
   "source": [
    "lst = [('홍길동', 22), ('권예경', 26), ('문빈', 20), ('김철수', 25)]\n",
    "sorted(lst)\n",
    "sorted(lst, reverse=True)\n",
    "sorted(lst, key=lambda x: x[1])"
   ]
  },
  {
   "cell_type": "code",
   "execution_count": 15,
   "metadata": {},
   "outputs": [
    {
     "data": {
      "text/plain": [
       "['samsung', 'software', 'accademy', 'for', 'youth']"
      ]
     },
     "execution_count": 15,
     "metadata": {},
     "output_type": "execute_result"
    }
   ],
   "source": [
    "lst = 'samsung software accademy for youth'.split()"
   ]
  },
  {
   "cell_type": "code",
   "execution_count": null,
   "metadata": {},
   "outputs": [
    {
     "data": {
      "text/plain": [
       "['10', '20', '30', '40']"
      ]
     },
     "execution_count": 17,
     "metadata": {},
     "output_type": "execute_result"
    }
   ],
   "source": [
    "input().split()  # 공백을 기준으로 문자열을 분할해서 리스트로 반환환"
   ]
  },
  {
   "cell_type": "code",
   "execution_count": 18,
   "metadata": {},
   "outputs": [
    {
     "data": {
      "text/plain": [
       "[10, 20, 30, 40]"
      ]
     },
     "execution_count": 18,
     "metadata": {},
     "output_type": "execute_result"
    }
   ],
   "source": [
    "list(map(int, input().split()))"
   ]
  },
  {
   "cell_type": "code",
   "execution_count": 25,
   "metadata": {},
   "outputs": [
    {
     "name": "stdout",
     "output_type": "stream",
     "text": [
      "h\n",
      "e\n",
      "l\n",
      "l\n",
      "o\n",
      "1\n",
      "2\n",
      "3\n",
      "1\n",
      "2\n",
      "3\n",
      "1\n",
      "2\n",
      "3\n",
      "name\n",
      "age\n",
      "address\n"
     ]
    },
    {
     "data": {
      "text/plain": [
       "['name', 'age', 'address']"
      ]
     },
     "execution_count": 25,
     "metadata": {},
     "output_type": "execute_result"
    }
   ],
   "source": [
    "# iterable 데이터 확인하려면 for문으로 확인\n",
    "\n",
    "for item in 'hello':\n",
    "    print(item)\n",
    "for item in [1, 2, 3]:\n",
    "    print(item)\n",
    "for item in (1, 2, 3):\n",
    "    print(item)\n",
    "for item in {1, 2, 3}:\n",
    "    print(item)\n",
    "for item in {'name': 1, 'age': 2, 'address': 3}:\n",
    "    print(item)\n",
    "\n"
   ]
  }
 ],
 "metadata": {
  "kernelspec": {
   "display_name": "Python 3",
   "language": "python",
   "name": "python3"
  },
  "language_info": {
   "codemirror_mode": {
    "name": "ipython",
    "version": 3
   },
   "file_extension": ".py",
   "mimetype": "text/x-python",
   "name": "python",
   "nbconvert_exporter": "python",
   "pygments_lexer": "ipython3",
   "version": "3.9.13"
  }
 },
 "nbformat": 4,
 "nbformat_minor": 2
}
