{
 "cells": [
  {
   "cell_type": "code",
   "execution_count": 3,
   "metadata": {},
   "outputs": [
    {
     "name": "stdout",
     "output_type": "stream",
     "text": [
      "20\n",
      "10\n"
     ]
    }
   ],
   "source": [
    "num = 10        # 전역변수\n",
    "\n",
    "def func():\n",
    "    num = 20    # 지역변수\n",
    "    print(num)  # 20\n",
    "\n",
    "func()\n",
    "print(num)      # 10\n"
   ]
  },
  {
   "cell_type": "code",
   "execution_count": 4,
   "metadata": {},
   "outputs": [
    {
     "ename": "UnboundLocalError",
     "evalue": "local variable 'num' referenced before assignment",
     "output_type": "error",
     "traceback": [
      "\u001b[1;31m---------------------------------------------------------------------------\u001b[0m",
      "\u001b[1;31mUnboundLocalError\u001b[0m                         Traceback (most recent call last)",
      "Cell \u001b[1;32mIn[4], line 8\u001b[0m\n\u001b[0;32m      5\u001b[0m     num \u001b[38;5;241m=\u001b[39m num \u001b[38;5;241m+\u001b[39m \u001b[38;5;241m20\u001b[39m\n\u001b[0;32m      6\u001b[0m     \u001b[38;5;28mprint\u001b[39m(num)  \u001b[38;5;66;03m# 20\u001b[39;00m\n\u001b[1;32m----> 8\u001b[0m \u001b[43mfunc\u001b[49m\u001b[43m(\u001b[49m\u001b[43m)\u001b[49m\n\u001b[0;32m      9\u001b[0m \u001b[38;5;28mprint\u001b[39m(num)      \u001b[38;5;66;03m# 10\u001b[39;00m\n",
      "Cell \u001b[1;32mIn[4], line 5\u001b[0m, in \u001b[0;36mfunc\u001b[1;34m()\u001b[0m\n\u001b[0;32m      3\u001b[0m \u001b[38;5;28;01mdef\u001b[39;00m\u001b[38;5;250m \u001b[39m\u001b[38;5;21mfunc\u001b[39m():\n\u001b[0;32m      4\u001b[0m     \u001b[38;5;66;03m# num += 20    \u001b[39;00m\n\u001b[1;32m----> 5\u001b[0m     num \u001b[38;5;241m=\u001b[39m \u001b[43mnum\u001b[49m \u001b[38;5;241m+\u001b[39m \u001b[38;5;241m20\u001b[39m\n\u001b[0;32m      6\u001b[0m     \u001b[38;5;28mprint\u001b[39m(num)\n",
      "\u001b[1;31mUnboundLocalError\u001b[0m: local variable 'num' referenced before assignment"
     ]
    }
   ],
   "source": [
    "num = 10        # 전역변수\n",
    "\n",
    "def func():\n",
    "    # num += 20    \n",
    "    num = num + 20\n",
    "    print(num)  \n",
    "\n",
    "func()\n",
    "print(num)      \n"
   ]
  },
  {
   "cell_type": "code",
   "execution_count": 5,
   "metadata": {},
   "outputs": [
    {
     "name": "stdout",
     "output_type": "stream",
     "text": [
      "30\n",
      "30\n"
     ]
    }
   ],
   "source": [
    "num = 10        # 전역변수\n",
    "\n",
    "def func():\n",
    "    global num\n",
    "    num = num + 20\n",
    "    print(num)  # 30\n",
    "\n",
    "func()\n",
    "print(num)      # 30\n"
   ]
  },
  {
   "cell_type": "code",
   "execution_count": 1,
   "metadata": {},
   "outputs": [
    {
     "name": "stdout",
     "output_type": "stream",
     "text": [
      "20\n",
      "10\n"
     ]
    }
   ],
   "source": [
    "# 지역변수와 전역변수의 사용범위(scope)/수명주기(lifetime)\n",
    "# 전역변수는 생성된 이후에 모든 범위에서 사용가능\n",
    "# 지역변수는 생성된 이후에 그 지역에서만 사용 => 왜? 수명주기때문에\n",
    "# 매개변수도 지역변수다. \n",
    "i = 10\n",
    "def test_func(i):\n",
    "    # 함수호출시 전달된 인자(값)을 i에 할당     \n",
    "    i = 20   # 매개변수(지역변수) i에 20을 재할당\n",
    "    print(i)        # 20\n",
    "\n",
    "test_func(i)         \n",
    "print(i)            # 10"
   ]
  },
  {
   "cell_type": "code",
   "execution_count": 6,
   "metadata": {},
   "outputs": [
    {
     "name": "stdout",
     "output_type": "stream",
     "text": [
      "h call\n",
      "g call\n",
      "f call\n",
      "g end\n",
      "h end\n"
     ]
    }
   ],
   "source": [
    "def f():\n",
    "    print('f call')    \n",
    "\n",
    "def g():\n",
    "    print('g call')   \n",
    "    f()\n",
    "    print('g end')\n",
    "\n",
    "def h():\n",
    "    print('h call')\n",
    "    g()\n",
    "    print('h end')\n",
    "\n",
    "h()"
   ]
  },
  {
   "cell_type": "code",
   "execution_count": 8,
   "metadata": {},
   "outputs": [
    {
     "data": {
      "text/plain": [
       "6"
      ]
     },
     "execution_count": 8,
     "metadata": {},
     "output_type": "execute_result"
    }
   ],
   "source": [
    "# 매개변수 n은 함수가 실행 될 때마다 새로 생성된다.\n",
    "\n",
    "def factorial(n):\n",
    "    if n == 1:\n",
    "        return n\n",
    "    else:\n",
    "        result = n * factorial(n - 1)   \n",
    "        return result\n",
    "\n",
    "factorial(3)    "
   ]
  }
 ],
 "metadata": {
  "kernelspec": {
   "display_name": "Python 3",
   "language": "python",
   "name": "python3"
  },
  "language_info": {
   "codemirror_mode": {
    "name": "ipython",
    "version": 3
   },
   "file_extension": ".py",
   "mimetype": "text/x-python",
   "name": "python",
   "nbconvert_exporter": "python",
   "pygments_lexer": "ipython3",
   "version": "3.9.13"
  }
 },
 "nbformat": 4,
 "nbformat_minor": 2
}
